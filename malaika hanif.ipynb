{
 "cells": [
  {
   "cell_type": "code",
   "execution_count": 1,
   "metadata": {},
   "outputs": [
    {
     "name": "stdout",
     "output_type": "stream",
     "text": [
      "heloo world\n"
     ]
    }
   ],
   "source": [
    "print(\"heloo world\")"
   ]
  },
  {
   "cell_type": "code",
   "execution_count": 8,
   "metadata": {},
   "outputs": [
    {
     "name": "stdout",
     "output_type": "stream",
     "text": [
      "The Visited Node is:A\n",
      "The Visited Node is:C\n",
      "The Visited Node is:E\n",
      "The Visited Node is:B\n",
      "The Visited Node is:D\n",
      "The Visited Node is:E\n"
     ]
    }
   ],
   "source": [
    "#lab 5 task\n",
    "class Node():\n",
    "    def __init__(self,data):\n",
    "        self.data=data\n",
    "        self.Neighbors=[]\n",
    "        \n",
    "    def append_neighbors(self,neighbor_node):\n",
    "        self.Neighbors.append(neighbor_node)\n",
    "        \n",
    "def dfs_with_stack(start_node):\n",
    "        stack=[start_node]\n",
    "        visited=set()\n",
    "        \n",
    "        while stack:\n",
    "            current_node=stack.pop()\n",
    "            \n",
    "            if current_node not in visited:\n",
    "                print(f\"The Visited Node is:{current_node.data}\")\n",
    "                \n",
    "                for neighbor_node in current_node.Neighbors:\n",
    "                    if neighbor_node not in visited:\n",
    "                        stack.append(neighbor_node)\n",
    "                        \n",
    "nodeA=Node(\"A\")\n",
    "nodeB=Node(\"B\")\n",
    "nodeC=Node(\"C\")\n",
    "nodeD=Node(\"D\")\n",
    "nodeE=Node(\"E\")\n",
    "\n",
    "nodeA.append_neighbors(nodeB)\n",
    "nodeA.append_neighbors(nodeC)\n",
    "nodeB.append_neighbors(nodeD)\n",
    "nodeC.append_neighbors(nodeE)\n",
    "nodeD.append_neighbors(nodeE)\n",
    "\n",
    "dfs_with_stack(nodeA)"
   ]
  },
  {
   "cell_type": "code",
   "execution_count": 9,
   "metadata": {},
   "outputs": [
    {
     "name": "stdout",
     "output_type": "stream",
     "text": [
      "0 1 3 4 2 5 6 "
     ]
    }
   ],
   "source": [
    "#lab No 6 task 1\n",
    "\n",
    "graph={\n",
    "    0:[1,2],\n",
    "    1:[0,3,4],\n",
    "    2:[0,5,6],\n",
    "    3:[1],\n",
    "    4:[1],\n",
    "    5:[2],\n",
    "    6:[2]\n",
    "}\n",
    "\n",
    "def bfs(graph,visited,current_level):\n",
    "    if not current_level:\n",
    "        return\n",
    "    next_level=[]\n",
    "    for node in current_level:\n",
    "        if not visited[node]:\n",
    "            print(node,end=\" \")\n",
    "            visited[node]=True\n",
    "            next_level.extend([neighbor for neighbor in graph[node] if not visited[neighbor]])\n",
    "            \n",
    "        bfs(graph,visited,next_level)\n",
    "        \n",
    "start_node=0\n",
    "visited=[False] *len(graph)\n",
    "\n",
    "bfs(graph,visited,[start_node])"
   ]
  },
  {
   "cell_type": "code",
   "execution_count": 10,
   "metadata": {},
   "outputs": [
    {
     "name": "stdout",
     "output_type": "stream",
     "text": [
      "0123456"
     ]
    }
   ],
   "source": [
    "#task 2\n",
    "from collections import deque\n",
    "graph={\n",
    "    0:[1,2],\n",
    "    1:[0,3,4],\n",
    "    2:[0,5,6],\n",
    "    3:[1],\n",
    "    4:[1],\n",
    "    5:[2],\n",
    "    6:[2]\n",
    "}\n",
    "\n",
    "def bfs_With_queue(graph,start_node):\n",
    "    Queue=deque([start_node])\n",
    "    visited=[False] * len(graph)\n",
    "    \n",
    "    visited[start_node]=True\n",
    "    \n",
    "    while Queue:\n",
    "        \n",
    "        node=Queue.popleft()\n",
    "        print(node,end=\"\")\n",
    "        \n",
    "        for neighbor in graph[node]:\n",
    "            if not visited[neighbor]:\n",
    "                visited[neighbor]=True\n",
    "                Queue.append(neighbor)\n",
    "                \n",
    "start_node=0\n",
    "bfs_With_queue(graph,start_node)"
   ]
  },
  {
   "cell_type": "code",
   "execution_count": 14,
   "metadata": {},
   "outputs": [
    {
     "name": "stdout",
     "output_type": "stream",
     "text": [
      "Path from A to G: ['A', 'B', 'E', 'F', 'G']\n"
     ]
    }
   ],
   "source": [
    "#lab 7 task\n",
    "class A_star():\n",
    "    def __init__(self,graph,Heuristic_value):\n",
    "        self.graph=graph\n",
    "        self.Heuristic_value=Heuristic_value\n",
    "        \n",
    "    def a_star_algorithm(self,start_node,goal_node):\n",
    "        list1=[(start_node,0)]\n",
    "        \n",
    "        g_value={start_node:0}\n",
    "        \n",
    "        f_value={start_node:self.Heuristic_value[start_node]}\n",
    "        \n",
    "        parent={start_node:None}\n",
    "        \n",
    "        while list1:\n",
    "            list1.sort(key=lambda x:f_value.get(x[0],float(\"inf\")))\n",
    "            current_node, _=list1.pop(0)\n",
    "            \n",
    "            if current_node==goal_node:\n",
    "                return self.Reconstruct_path(parent,goal_node)\n",
    "            \n",
    "            for neighbor,cost in self.graph.get(current_node,[]):\n",
    "                _g_score=g_value[current_node] + cost\n",
    "                \n",
    "                if _g_score < g_value.get(neighbor,float(\"inf\")):\n",
    "                    parent[neighbor] = current_node\n",
    "                    g_value[neighbor] = _g_score\n",
    "                    f_value[neighbor] = _g_score + self.Heuristic_value[neighbor]\n",
    "                    \n",
    "                    if neighbor not in [node[0] for node in list1]:\n",
    "                        list1.append((neighbor,f_value[neighbor]))\n",
    "                    \n",
    "        return None\n",
    "    \n",
    "    def Reconstruct_path(self,parent,current_node):\n",
    "        path=[]\n",
    "        while current_node is not None:\n",
    "            path.append(current_node)\n",
    "            current_node=parent[current_node]\n",
    "            \n",
    "        return path[::-1]\n",
    "    \n",
    "    \n",
    "graph = {\n",
    "    'A': [('B', 1), ('C', 3)],\n",
    "    'B': [('A', 1), ('D', 1), ('E', 4)],\n",
    "    'C': [('A', 3), ('F', 5)],\n",
    "    'D': [('B', 1)],\n",
    "    'E': [('B', 4), ('F', 2)],\n",
    "    'F': [('C', 5), ('E', 2), ('G', 1)],\n",
    "    'G': [('F', 1)]\n",
    "}\n",
    "\n",
    "huristic = {\n",
    "    'A': 7,\n",
    "    'B': 6,\n",
    "    'C': 2,\n",
    "    'D': 6,\n",
    "    'E': 3,\n",
    "    'F': 1,\n",
    "    'G': 0\n",
    "}\n",
    "\n",
    "astar = A_star(graph, huristic)\n",
    "\n",
    "start_node= \"A\"\n",
    "goal_node=\"G\"\n",
    "\n",
    "path=astar.a_star_algorithm(start_node,goal_node)\n",
    "print(f\"Path from {start_node} to {goal_node}: {path}\")"
   ]
  },
  {
   "cell_type": "code",
   "execution_count": 17,
   "metadata": {},
   "outputs": [
    {
     "name": "stdout",
     "output_type": "stream",
     "text": [
      "Best value: 1\n"
     ]
    }
   ],
   "source": [
    "#lab 8 task\n",
    "import math\n",
    "class Game():\n",
    "    def __init__(self,board,maximize_player):\n",
    "        self.board=board\n",
    "        self.maximize_player=maximize_player\n",
    "        \n",
    "    def is_possible_moves(self):\n",
    "        moves=[]\n",
    "        for i in range (len(self.board)):\n",
    "            for j in range (len(self.board[i])):\n",
    "                if self.board[i][j]==0:\n",
    "                    moves.append((i,j))\n",
    "        return moves\n",
    "    def make_move(self,move):\n",
    "        new_board=[row.copy()for row in self.board]\n",
    "        new_board[move[0]][move[1]]=1 if self.maximize_player else -1\n",
    "        return Game(new_board,not self.maximize_player)\n",
    "    \n",
    "    def is_terminal(self):\n",
    "        return len(self.is_possible_moves())==0\n",
    "    \n",
    "    def is_evaluate(self):\n",
    "        return 1 if self.maximize_player else -1 if not self.maximize_player else 0\n",
    "    \n",
    "def minmax_Algorithm(state,depth):\n",
    "    if state.is_terminal() or depth==0:\n",
    "        return state.is_evaluate()\n",
    "    if state.maximize_player:\n",
    "        max_evaluate=-math.inf\n",
    "        for move in state.is_possible_moves():\n",
    "            eval=minmax_Algorithm(state.make_move(move),depth -1)\n",
    "            max_evaluate=max(max_evaluate,eval)\n",
    "            \n",
    "        return max_evaluate\n",
    "    else:\n",
    "        minimum_evaluate=math.inf\n",
    "        for move in state.is_possible_moves():\n",
    "           eval=minmax_Algorithm(state.make_move(move),depth -1)\n",
    "           minimum_evaluate=min(minimum_evaluate,eval)\n",
    "           \n",
    "        return minimum_evaluate\n",
    "    \n",
    "initial_board = [[0, 0, 0], [0, 0, 0], [0, 0, 0]] \n",
    "game_state = Game(initial_board, True) \n",
    "best_value = minmax_Algorithm(game_state, depth=2)  \n",
    "print(\"Best value:\", best_value)"
   ]
  }
 ],
 "metadata": {
  "kernelspec": {
   "display_name": "base",
   "language": "python",
   "name": "python3"
  },
  "language_info": {
   "codemirror_mode": {
    "name": "ipython",
    "version": 3
   },
   "file_extension": ".py",
   "mimetype": "text/x-python",
   "name": "python",
   "nbconvert_exporter": "python",
   "pygments_lexer": "ipython3",
   "version": "3.11.7"
  }
 },
 "nbformat": 4,
 "nbformat_minor": 2
}
